{
 "cells": [
  {
   "cell_type": "code",
   "execution_count": 1,
   "metadata": {},
   "outputs": [],
   "source": [
    "import pandas as pd\n",
    "import numpy as np\n",
    "import matplotlib.pyplot as plt\n",
    "import seaborn as sns\n",
    "\n",
    "from scipy.stats import anderson, levene, f_oneway, kruskal, ks_2samp\n",
    "from statsmodels.stats.multicomp import pairwise_tukeyhsd\n",
    "import scikit_posthocs as sp"
   ]
  },
  {
   "cell_type": "code",
   "execution_count": 2,
   "metadata": {},
   "outputs": [],
   "source": [
    "df_train = pd.read_csv('./data/train.csv')\n",
    "df_train_extra = pd.read_csv('./data/training_extra.csv')\n",
    "df_test = pd.read_csv('./data/test.csv')"
   ]
  },
  {
   "cell_type": "code",
   "execution_count": 3,
   "metadata": {},
   "outputs": [
    {
     "name": "stdout",
     "output_type": "stream",
     "text": [
      "train shape: (300000, 11)\n",
      "train_extra shape: (3694318, 11)\n",
      "test shape: (200000, 10)\n"
     ]
    }
   ],
   "source": [
    "print(f'train shape: {df_train.shape}')\n",
    "print(f'train_extra shape: {df_train_extra.shape}')\n",
    "print(f'test shape: {df_test.shape}')"
   ]
  },
  {
   "cell_type": "code",
   "execution_count": 52,
   "metadata": {},
   "outputs": [
    {
     "data": {
      "text/plain": [
       "Index(['Brand', 'Material', 'Size', 'Laptop Compartment', 'Waterproof',\n",
       "       'Style', 'Color'],\n",
       "      dtype='object')"
      ]
     },
     "execution_count": 52,
     "metadata": {},
     "output_type": "execute_result"
    }
   ],
   "source": [
    "df_train.select_dtypes(include=['object', 'category']).columns"
   ]
  },
  {
   "cell_type": "code",
   "execution_count": 4,
   "metadata": {},
   "outputs": [
    {
     "data": {
      "text/html": [
       "<div>\n",
       "<style scoped>\n",
       "    .dataframe tbody tr th:only-of-type {\n",
       "        vertical-align: middle;\n",
       "    }\n",
       "\n",
       "    .dataframe tbody tr th {\n",
       "        vertical-align: top;\n",
       "    }\n",
       "\n",
       "    .dataframe thead th {\n",
       "        text-align: right;\n",
       "    }\n",
       "</style>\n",
       "<table border=\"1\" class=\"dataframe\">\n",
       "  <thead>\n",
       "    <tr style=\"text-align: right;\">\n",
       "      <th></th>\n",
       "      <th>id</th>\n",
       "      <th>Brand</th>\n",
       "      <th>Material</th>\n",
       "      <th>Size</th>\n",
       "      <th>Compartments</th>\n",
       "      <th>Laptop Compartment</th>\n",
       "      <th>Waterproof</th>\n",
       "      <th>Style</th>\n",
       "      <th>Color</th>\n",
       "      <th>Weight Capacity (kg)</th>\n",
       "      <th>Price</th>\n",
       "    </tr>\n",
       "  </thead>\n",
       "  <tbody>\n",
       "    <tr>\n",
       "      <th>0</th>\n",
       "      <td>0</td>\n",
       "      <td>Jansport</td>\n",
       "      <td>Leather</td>\n",
       "      <td>Medium</td>\n",
       "      <td>7.0</td>\n",
       "      <td>Yes</td>\n",
       "      <td>No</td>\n",
       "      <td>Tote</td>\n",
       "      <td>Black</td>\n",
       "      <td>11.611723</td>\n",
       "      <td>112.15875</td>\n",
       "    </tr>\n",
       "    <tr>\n",
       "      <th>1</th>\n",
       "      <td>1</td>\n",
       "      <td>Jansport</td>\n",
       "      <td>Canvas</td>\n",
       "      <td>Small</td>\n",
       "      <td>10.0</td>\n",
       "      <td>Yes</td>\n",
       "      <td>Yes</td>\n",
       "      <td>Messenger</td>\n",
       "      <td>Green</td>\n",
       "      <td>27.078537</td>\n",
       "      <td>68.88056</td>\n",
       "    </tr>\n",
       "    <tr>\n",
       "      <th>2</th>\n",
       "      <td>2</td>\n",
       "      <td>Under Armour</td>\n",
       "      <td>Leather</td>\n",
       "      <td>Small</td>\n",
       "      <td>2.0</td>\n",
       "      <td>Yes</td>\n",
       "      <td>No</td>\n",
       "      <td>Messenger</td>\n",
       "      <td>Red</td>\n",
       "      <td>16.643760</td>\n",
       "      <td>39.17320</td>\n",
       "    </tr>\n",
       "    <tr>\n",
       "      <th>3</th>\n",
       "      <td>3</td>\n",
       "      <td>Nike</td>\n",
       "      <td>Nylon</td>\n",
       "      <td>Small</td>\n",
       "      <td>8.0</td>\n",
       "      <td>Yes</td>\n",
       "      <td>No</td>\n",
       "      <td>Messenger</td>\n",
       "      <td>Green</td>\n",
       "      <td>12.937220</td>\n",
       "      <td>80.60793</td>\n",
       "    </tr>\n",
       "    <tr>\n",
       "      <th>4</th>\n",
       "      <td>4</td>\n",
       "      <td>Adidas</td>\n",
       "      <td>Canvas</td>\n",
       "      <td>Medium</td>\n",
       "      <td>1.0</td>\n",
       "      <td>Yes</td>\n",
       "      <td>Yes</td>\n",
       "      <td>Messenger</td>\n",
       "      <td>Green</td>\n",
       "      <td>17.749338</td>\n",
       "      <td>86.02312</td>\n",
       "    </tr>\n",
       "  </tbody>\n",
       "</table>\n",
       "</div>"
      ],
      "text/plain": [
       "   id         Brand Material    Size  Compartments Laptop Compartment  \\\n",
       "0   0      Jansport  Leather  Medium           7.0                Yes   \n",
       "1   1      Jansport   Canvas   Small          10.0                Yes   \n",
       "2   2  Under Armour  Leather   Small           2.0                Yes   \n",
       "3   3          Nike    Nylon   Small           8.0                Yes   \n",
       "4   4        Adidas   Canvas  Medium           1.0                Yes   \n",
       "\n",
       "  Waterproof      Style  Color  Weight Capacity (kg)      Price  \n",
       "0         No       Tote  Black             11.611723  112.15875  \n",
       "1        Yes  Messenger  Green             27.078537   68.88056  \n",
       "2         No  Messenger    Red             16.643760   39.17320  \n",
       "3         No  Messenger  Green             12.937220   80.60793  \n",
       "4        Yes  Messenger  Green             17.749338   86.02312  "
      ]
     },
     "execution_count": 4,
     "metadata": {},
     "output_type": "execute_result"
    }
   ],
   "source": [
    "df_train.head()"
   ]
  },
  {
   "cell_type": "code",
   "execution_count": 5,
   "metadata": {},
   "outputs": [
    {
     "data": {
      "text/html": [
       "<div>\n",
       "<style scoped>\n",
       "    .dataframe tbody tr th:only-of-type {\n",
       "        vertical-align: middle;\n",
       "    }\n",
       "\n",
       "    .dataframe tbody tr th {\n",
       "        vertical-align: top;\n",
       "    }\n",
       "\n",
       "    .dataframe thead th {\n",
       "        text-align: right;\n",
       "    }\n",
       "</style>\n",
       "<table border=\"1\" class=\"dataframe\">\n",
       "  <thead>\n",
       "    <tr style=\"text-align: right;\">\n",
       "      <th></th>\n",
       "      <th>id</th>\n",
       "      <th>Brand</th>\n",
       "      <th>Material</th>\n",
       "      <th>Size</th>\n",
       "      <th>Compartments</th>\n",
       "      <th>Laptop Compartment</th>\n",
       "      <th>Waterproof</th>\n",
       "      <th>Style</th>\n",
       "      <th>Color</th>\n",
       "      <th>Weight Capacity (kg)</th>\n",
       "      <th>Price</th>\n",
       "    </tr>\n",
       "  </thead>\n",
       "  <tbody>\n",
       "    <tr>\n",
       "      <th>299995</th>\n",
       "      <td>299995</td>\n",
       "      <td>Adidas</td>\n",
       "      <td>Leather</td>\n",
       "      <td>Small</td>\n",
       "      <td>9.0</td>\n",
       "      <td>No</td>\n",
       "      <td>No</td>\n",
       "      <td>Tote</td>\n",
       "      <td>Blue</td>\n",
       "      <td>12.730812</td>\n",
       "      <td>129.99749</td>\n",
       "    </tr>\n",
       "    <tr>\n",
       "      <th>299996</th>\n",
       "      <td>299996</td>\n",
       "      <td>Jansport</td>\n",
       "      <td>Leather</td>\n",
       "      <td>Large</td>\n",
       "      <td>6.0</td>\n",
       "      <td>No</td>\n",
       "      <td>Yes</td>\n",
       "      <td>Tote</td>\n",
       "      <td>Blue</td>\n",
       "      <td>26.633182</td>\n",
       "      <td>19.85819</td>\n",
       "    </tr>\n",
       "    <tr>\n",
       "      <th>299997</th>\n",
       "      <td>299997</td>\n",
       "      <td>Puma</td>\n",
       "      <td>Canvas</td>\n",
       "      <td>Large</td>\n",
       "      <td>9.0</td>\n",
       "      <td>Yes</td>\n",
       "      <td>Yes</td>\n",
       "      <td>Backpack</td>\n",
       "      <td>Pink</td>\n",
       "      <td>11.898250</td>\n",
       "      <td>111.41364</td>\n",
       "    </tr>\n",
       "    <tr>\n",
       "      <th>299998</th>\n",
       "      <td>299998</td>\n",
       "      <td>Adidas</td>\n",
       "      <td>Nylon</td>\n",
       "      <td>Small</td>\n",
       "      <td>1.0</td>\n",
       "      <td>No</td>\n",
       "      <td>Yes</td>\n",
       "      <td>Tote</td>\n",
       "      <td>Pink</td>\n",
       "      <td>6.175738</td>\n",
       "      <td>115.89080</td>\n",
       "    </tr>\n",
       "    <tr>\n",
       "      <th>299999</th>\n",
       "      <td>299999</td>\n",
       "      <td>Under Armour</td>\n",
       "      <td>Canvas</td>\n",
       "      <td>Small</td>\n",
       "      <td>2.0</td>\n",
       "      <td>No</td>\n",
       "      <td>Yes</td>\n",
       "      <td>Backpack</td>\n",
       "      <td>Black</td>\n",
       "      <td>18.568865</td>\n",
       "      <td>26.72762</td>\n",
       "    </tr>\n",
       "  </tbody>\n",
       "</table>\n",
       "</div>"
      ],
      "text/plain": [
       "            id         Brand Material   Size  Compartments Laptop Compartment  \\\n",
       "299995  299995        Adidas  Leather  Small           9.0                 No   \n",
       "299996  299996      Jansport  Leather  Large           6.0                 No   \n",
       "299997  299997          Puma   Canvas  Large           9.0                Yes   \n",
       "299998  299998        Adidas    Nylon  Small           1.0                 No   \n",
       "299999  299999  Under Armour   Canvas  Small           2.0                 No   \n",
       "\n",
       "       Waterproof     Style  Color  Weight Capacity (kg)      Price  \n",
       "299995         No      Tote   Blue             12.730812  129.99749  \n",
       "299996        Yes      Tote   Blue             26.633182   19.85819  \n",
       "299997        Yes  Backpack   Pink             11.898250  111.41364  \n",
       "299998        Yes      Tote   Pink              6.175738  115.89080  \n",
       "299999        Yes  Backpack  Black             18.568865   26.72762  "
      ]
     },
     "execution_count": 5,
     "metadata": {},
     "output_type": "execute_result"
    }
   ],
   "source": [
    "df_train.tail()"
   ]
  },
  {
   "cell_type": "code",
   "execution_count": 6,
   "metadata": {},
   "outputs": [
    {
     "data": {
      "text/html": [
       "<div>\n",
       "<style scoped>\n",
       "    .dataframe tbody tr th:only-of-type {\n",
       "        vertical-align: middle;\n",
       "    }\n",
       "\n",
       "    .dataframe tbody tr th {\n",
       "        vertical-align: top;\n",
       "    }\n",
       "\n",
       "    .dataframe thead th {\n",
       "        text-align: right;\n",
       "    }\n",
       "</style>\n",
       "<table border=\"1\" class=\"dataframe\">\n",
       "  <thead>\n",
       "    <tr style=\"text-align: right;\">\n",
       "      <th></th>\n",
       "      <th>id</th>\n",
       "      <th>Brand</th>\n",
       "      <th>Material</th>\n",
       "      <th>Size</th>\n",
       "      <th>Compartments</th>\n",
       "      <th>Laptop Compartment</th>\n",
       "      <th>Waterproof</th>\n",
       "      <th>Style</th>\n",
       "      <th>Color</th>\n",
       "      <th>Weight Capacity (kg)</th>\n",
       "    </tr>\n",
       "  </thead>\n",
       "  <tbody>\n",
       "    <tr>\n",
       "      <th>0</th>\n",
       "      <td>300000</td>\n",
       "      <td>Puma</td>\n",
       "      <td>Leather</td>\n",
       "      <td>Small</td>\n",
       "      <td>2.0</td>\n",
       "      <td>No</td>\n",
       "      <td>No</td>\n",
       "      <td>Tote</td>\n",
       "      <td>Green</td>\n",
       "      <td>20.671147</td>\n",
       "    </tr>\n",
       "    <tr>\n",
       "      <th>1</th>\n",
       "      <td>300001</td>\n",
       "      <td>Nike</td>\n",
       "      <td>Canvas</td>\n",
       "      <td>Medium</td>\n",
       "      <td>7.0</td>\n",
       "      <td>No</td>\n",
       "      <td>Yes</td>\n",
       "      <td>Backpack</td>\n",
       "      <td>Green</td>\n",
       "      <td>13.564105</td>\n",
       "    </tr>\n",
       "    <tr>\n",
       "      <th>2</th>\n",
       "      <td>300002</td>\n",
       "      <td>Adidas</td>\n",
       "      <td>Canvas</td>\n",
       "      <td>Large</td>\n",
       "      <td>9.0</td>\n",
       "      <td>No</td>\n",
       "      <td>Yes</td>\n",
       "      <td>Messenger</td>\n",
       "      <td>Blue</td>\n",
       "      <td>11.809799</td>\n",
       "    </tr>\n",
       "    <tr>\n",
       "      <th>3</th>\n",
       "      <td>300003</td>\n",
       "      <td>Adidas</td>\n",
       "      <td>Nylon</td>\n",
       "      <td>Large</td>\n",
       "      <td>1.0</td>\n",
       "      <td>Yes</td>\n",
       "      <td>No</td>\n",
       "      <td>Messenger</td>\n",
       "      <td>Green</td>\n",
       "      <td>18.477036</td>\n",
       "    </tr>\n",
       "    <tr>\n",
       "      <th>4</th>\n",
       "      <td>300004</td>\n",
       "      <td>NaN</td>\n",
       "      <td>Nylon</td>\n",
       "      <td>Large</td>\n",
       "      <td>2.0</td>\n",
       "      <td>Yes</td>\n",
       "      <td>Yes</td>\n",
       "      <td>Tote</td>\n",
       "      <td>Black</td>\n",
       "      <td>9.907953</td>\n",
       "    </tr>\n",
       "  </tbody>\n",
       "</table>\n",
       "</div>"
      ],
      "text/plain": [
       "       id   Brand Material    Size  Compartments Laptop Compartment  \\\n",
       "0  300000    Puma  Leather   Small           2.0                 No   \n",
       "1  300001    Nike   Canvas  Medium           7.0                 No   \n",
       "2  300002  Adidas   Canvas   Large           9.0                 No   \n",
       "3  300003  Adidas    Nylon   Large           1.0                Yes   \n",
       "4  300004     NaN    Nylon   Large           2.0                Yes   \n",
       "\n",
       "  Waterproof      Style  Color  Weight Capacity (kg)  \n",
       "0         No       Tote  Green             20.671147  \n",
       "1        Yes   Backpack  Green             13.564105  \n",
       "2        Yes  Messenger   Blue             11.809799  \n",
       "3         No  Messenger  Green             18.477036  \n",
       "4        Yes       Tote  Black              9.907953  "
      ]
     },
     "execution_count": 6,
     "metadata": {},
     "output_type": "execute_result"
    }
   ],
   "source": [
    "df_test.head()"
   ]
  },
  {
   "cell_type": "code",
   "execution_count": 7,
   "metadata": {},
   "outputs": [
    {
     "data": {
      "text/html": [
       "<div>\n",
       "<style scoped>\n",
       "    .dataframe tbody tr th:only-of-type {\n",
       "        vertical-align: middle;\n",
       "    }\n",
       "\n",
       "    .dataframe tbody tr th {\n",
       "        vertical-align: top;\n",
       "    }\n",
       "\n",
       "    .dataframe thead th {\n",
       "        text-align: right;\n",
       "    }\n",
       "</style>\n",
       "<table border=\"1\" class=\"dataframe\">\n",
       "  <thead>\n",
       "    <tr style=\"text-align: right;\">\n",
       "      <th></th>\n",
       "      <th>id</th>\n",
       "      <th>Brand</th>\n",
       "      <th>Material</th>\n",
       "      <th>Size</th>\n",
       "      <th>Compartments</th>\n",
       "      <th>Laptop Compartment</th>\n",
       "      <th>Waterproof</th>\n",
       "      <th>Style</th>\n",
       "      <th>Color</th>\n",
       "      <th>Weight Capacity (kg)</th>\n",
       "    </tr>\n",
       "  </thead>\n",
       "  <tbody>\n",
       "    <tr>\n",
       "      <th>199995</th>\n",
       "      <td>499995</td>\n",
       "      <td>Adidas</td>\n",
       "      <td>Canvas</td>\n",
       "      <td>Large</td>\n",
       "      <td>2.0</td>\n",
       "      <td>Yes</td>\n",
       "      <td>No</td>\n",
       "      <td>Messenger</td>\n",
       "      <td>Red</td>\n",
       "      <td>7.383498</td>\n",
       "    </tr>\n",
       "    <tr>\n",
       "      <th>199996</th>\n",
       "      <td>499996</td>\n",
       "      <td>Nike</td>\n",
       "      <td>Polyester</td>\n",
       "      <td>Small</td>\n",
       "      <td>9.0</td>\n",
       "      <td>No</td>\n",
       "      <td>Yes</td>\n",
       "      <td>Messenger</td>\n",
       "      <td>Pink</td>\n",
       "      <td>6.058394</td>\n",
       "    </tr>\n",
       "    <tr>\n",
       "      <th>199997</th>\n",
       "      <td>499997</td>\n",
       "      <td>Jansport</td>\n",
       "      <td>Nylon</td>\n",
       "      <td>Small</td>\n",
       "      <td>9.0</td>\n",
       "      <td>No</td>\n",
       "      <td>Yes</td>\n",
       "      <td>Tote</td>\n",
       "      <td>Green</td>\n",
       "      <td>26.890163</td>\n",
       "    </tr>\n",
       "    <tr>\n",
       "      <th>199998</th>\n",
       "      <td>499998</td>\n",
       "      <td>Puma</td>\n",
       "      <td>Nylon</td>\n",
       "      <td>Large</td>\n",
       "      <td>10.0</td>\n",
       "      <td>Yes</td>\n",
       "      <td>No</td>\n",
       "      <td>Tote</td>\n",
       "      <td>Gray</td>\n",
       "      <td>25.769153</td>\n",
       "    </tr>\n",
       "    <tr>\n",
       "      <th>199999</th>\n",
       "      <td>499999</td>\n",
       "      <td>Under Armour</td>\n",
       "      <td>Leather</td>\n",
       "      <td>Medium</td>\n",
       "      <td>8.0</td>\n",
       "      <td>Yes</td>\n",
       "      <td>Yes</td>\n",
       "      <td>Messenger</td>\n",
       "      <td>Pink</td>\n",
       "      <td>29.175026</td>\n",
       "    </tr>\n",
       "  </tbody>\n",
       "</table>\n",
       "</div>"
      ],
      "text/plain": [
       "            id         Brand   Material    Size  Compartments  \\\n",
       "199995  499995        Adidas     Canvas   Large           2.0   \n",
       "199996  499996          Nike  Polyester   Small           9.0   \n",
       "199997  499997      Jansport      Nylon   Small           9.0   \n",
       "199998  499998          Puma      Nylon   Large          10.0   \n",
       "199999  499999  Under Armour    Leather  Medium           8.0   \n",
       "\n",
       "       Laptop Compartment Waterproof      Style  Color  Weight Capacity (kg)  \n",
       "199995                Yes         No  Messenger    Red              7.383498  \n",
       "199996                 No        Yes  Messenger   Pink              6.058394  \n",
       "199997                 No        Yes       Tote  Green             26.890163  \n",
       "199998                Yes         No       Tote   Gray             25.769153  \n",
       "199999                Yes        Yes  Messenger   Pink             29.175026  "
      ]
     },
     "execution_count": 7,
     "metadata": {},
     "output_type": "execute_result"
    }
   ],
   "source": [
    "df_test.tail()"
   ]
  },
  {
   "cell_type": "code",
   "execution_count": 8,
   "metadata": {},
   "outputs": [
    {
     "data": {
      "text/html": [
       "<div>\n",
       "<style scoped>\n",
       "    .dataframe tbody tr th:only-of-type {\n",
       "        vertical-align: middle;\n",
       "    }\n",
       "\n",
       "    .dataframe tbody tr th {\n",
       "        vertical-align: top;\n",
       "    }\n",
       "\n",
       "    .dataframe thead th {\n",
       "        text-align: right;\n",
       "    }\n",
       "</style>\n",
       "<table border=\"1\" class=\"dataframe\">\n",
       "  <thead>\n",
       "    <tr style=\"text-align: right;\">\n",
       "      <th></th>\n",
       "      <th>id</th>\n",
       "      <th>Brand</th>\n",
       "      <th>Material</th>\n",
       "      <th>Size</th>\n",
       "      <th>Compartments</th>\n",
       "      <th>Laptop Compartment</th>\n",
       "      <th>Waterproof</th>\n",
       "      <th>Style</th>\n",
       "      <th>Color</th>\n",
       "      <th>Weight Capacity (kg)</th>\n",
       "      <th>Price</th>\n",
       "    </tr>\n",
       "  </thead>\n",
       "  <tbody>\n",
       "    <tr>\n",
       "      <th>0</th>\n",
       "      <td>500000</td>\n",
       "      <td>Under Armour</td>\n",
       "      <td>Canvas</td>\n",
       "      <td>Small</td>\n",
       "      <td>10.0</td>\n",
       "      <td>Yes</td>\n",
       "      <td>Yes</td>\n",
       "      <td>Tote</td>\n",
       "      <td>Blue</td>\n",
       "      <td>23.882052</td>\n",
       "      <td>114.11068</td>\n",
       "    </tr>\n",
       "    <tr>\n",
       "      <th>1</th>\n",
       "      <td>500001</td>\n",
       "      <td>Puma</td>\n",
       "      <td>Polyester</td>\n",
       "      <td>Small</td>\n",
       "      <td>4.0</td>\n",
       "      <td>No</td>\n",
       "      <td>Yes</td>\n",
       "      <td>Backpack</td>\n",
       "      <td>Green</td>\n",
       "      <td>11.869095</td>\n",
       "      <td>129.74972</td>\n",
       "    </tr>\n",
       "    <tr>\n",
       "      <th>2</th>\n",
       "      <td>500002</td>\n",
       "      <td>Jansport</td>\n",
       "      <td>Polyester</td>\n",
       "      <td>Small</td>\n",
       "      <td>8.0</td>\n",
       "      <td>Yes</td>\n",
       "      <td>Yes</td>\n",
       "      <td>Tote</td>\n",
       "      <td>Red</td>\n",
       "      <td>8.092302</td>\n",
       "      <td>21.37370</td>\n",
       "    </tr>\n",
       "    <tr>\n",
       "      <th>3</th>\n",
       "      <td>500003</td>\n",
       "      <td>Nike</td>\n",
       "      <td>Nylon</td>\n",
       "      <td>Large</td>\n",
       "      <td>7.0</td>\n",
       "      <td>No</td>\n",
       "      <td>No</td>\n",
       "      <td>Messenger</td>\n",
       "      <td>Pink</td>\n",
       "      <td>7.719581</td>\n",
       "      <td>48.09209</td>\n",
       "    </tr>\n",
       "    <tr>\n",
       "      <th>4</th>\n",
       "      <td>500004</td>\n",
       "      <td>Nike</td>\n",
       "      <td>Leather</td>\n",
       "      <td>Large</td>\n",
       "      <td>9.0</td>\n",
       "      <td>No</td>\n",
       "      <td>Yes</td>\n",
       "      <td>Tote</td>\n",
       "      <td>Green</td>\n",
       "      <td>22.741826</td>\n",
       "      <td>77.32461</td>\n",
       "    </tr>\n",
       "  </tbody>\n",
       "</table>\n",
       "</div>"
      ],
      "text/plain": [
       "       id         Brand   Material   Size  Compartments Laptop Compartment  \\\n",
       "0  500000  Under Armour     Canvas  Small          10.0                Yes   \n",
       "1  500001          Puma  Polyester  Small           4.0                 No   \n",
       "2  500002      Jansport  Polyester  Small           8.0                Yes   \n",
       "3  500003          Nike      Nylon  Large           7.0                 No   \n",
       "4  500004          Nike    Leather  Large           9.0                 No   \n",
       "\n",
       "  Waterproof      Style  Color  Weight Capacity (kg)      Price  \n",
       "0        Yes       Tote   Blue             23.882052  114.11068  \n",
       "1        Yes   Backpack  Green             11.869095  129.74972  \n",
       "2        Yes       Tote    Red              8.092302   21.37370  \n",
       "3         No  Messenger   Pink              7.719581   48.09209  \n",
       "4        Yes       Tote  Green             22.741826   77.32461  "
      ]
     },
     "execution_count": 8,
     "metadata": {},
     "output_type": "execute_result"
    }
   ],
   "source": [
    "df_train_extra.head()"
   ]
  },
  {
   "cell_type": "markdown",
   "metadata": {},
   "source": [
    "### Helper function"
   ]
  },
  {
   "cell_type": "code",
   "execution_count": 9,
   "metadata": {},
   "outputs": [],
   "source": [
    "def plot_bar(data, x_col, y_col, agg_func='mean', title=None, xlabel=None, ylabel=None):\n",
    "\n",
    "    # Perform aggregation\n",
    "    aggregated_data = data.groupby(x_col)[y_col].agg(agg_func).reset_index()\n",
    "\n",
    "    # Plot the bar chart\n",
    "    plt.figure(figsize=(5, 3))\n",
    "    plt.bar(aggregated_data[x_col], aggregated_data[y_col], color='skyblue')\n",
    "    plt.title(title if title else f'{agg_func.capitalize()} of {y_col} by {x_col}')\n",
    "    plt.xlabel(xlabel if xlabel else x_col)\n",
    "    plt.ylabel(ylabel if ylabel else f'{agg_func.capitalize()} {y_col}')\n",
    "    plt.xticks(rotation=45, ha='right')\n",
    "    plt.tight_layout()\n",
    "    plt.show()"
   ]
  },
  {
   "cell_type": "code",
   "execution_count": 10,
   "metadata": {},
   "outputs": [],
   "source": [
    "def plot_box(data, x_col, y_col, title=None, xlabel=None, ylabel=None):\n",
    "\n",
    "    plt.figure(figsize=(8, 5))\n",
    "    sns.boxplot(x=data[x_col], y=data[y_col], palette=\"Blues\", legend=False)\n",
    "\n",
    "    # Set plot titles and labels\n",
    "    plt.title(title if title else f'Distribution of {y_col} by {x_col}')\n",
    "    plt.xlabel(xlabel if xlabel else x_col)\n",
    "    plt.ylabel(ylabel if ylabel else y_col)\n",
    "    plt.xticks(rotation=45, ha='right')\n",
    "\n",
    "    # Show the plot\n",
    "    plt.tight_layout()\n",
    "    plt.show()"
   ]
  },
  {
   "cell_type": "markdown",
   "metadata": {},
   "source": [
    "## EDA"
   ]
  },
  {
   "cell_type": "code",
   "execution_count": 11,
   "metadata": {},
   "outputs": [
    {
     "data": {
      "text/plain": [
       "id                        int64\n",
       "Brand                    object\n",
       "Material                 object\n",
       "Size                     object\n",
       "Compartments            float64\n",
       "Laptop Compartment       object\n",
       "Waterproof               object\n",
       "Style                    object\n",
       "Color                    object\n",
       "Weight Capacity (kg)    float64\n",
       "Price                   float64\n",
       "dtype: object"
      ]
     },
     "execution_count": 11,
     "metadata": {},
     "output_type": "execute_result"
    }
   ],
   "source": [
    "df_train.dtypes"
   ]
  },
  {
   "cell_type": "code",
   "execution_count": 12,
   "metadata": {},
   "outputs": [
    {
     "name": "stderr",
     "output_type": "stream",
     "text": [
      "C:\\Users\\Sean\\AppData\\Local\\Temp\\ipykernel_240\\1901648795.py:4: FutureWarning: \n",
      "\n",
      "Passing `palette` without assigning `hue` is deprecated and will be removed in v0.14.0. Assign the `x` variable to `hue` and set `legend=False` for the same effect.\n",
      "\n",
      "  sns.boxplot(x=data[x_col], y=data[y_col], palette=\"Blues\", legend=False)\n"
     ]
    },
    {
     "data": {
      "image/png": "[encoded data removed]",
      "text/plain": [
       "<Figure size 800x500 with 1 Axes>"
      ]
     },
     "metadata": {},
     "output_type": "display_data"
    }
   ],
   "source": [
    "plot_box(df_train, 'Brand', 'Price')"
   ]
  },
  {
   "cell_type": "code",
   "execution_count": 13,
   "metadata": {},
   "outputs": [
    {
     "name": "stderr",
     "output_type": "stream",
     "text": [
      "C:\\Users\\Sean\\AppData\\Local\\Temp\\ipykernel_240\\1901648795.py:4: FutureWarning: \n",
      "\n",
      "Passing `palette` without assigning `hue` is deprecated and will be removed in v0.14.0. Assign the `x` variable to `hue` and set `legend=False` for the same effect.\n",
      "\n",
      "  sns.boxplot(x=data[x_col], y=data[y_col], palette=\"Blues\", legend=False)\n"
     ]
    },
    {
     "data": {
      "image/png": "[encoded data removed]",
      "text/plain": [
       "<Figure size 800x500 with 1 Axes>"
      ]
     },
     "metadata": {},
     "output_type": "display_data"
    }
   ],
   "source": [
    "plot_box(df_train, 'Material', 'Price')"
   ]
  },
  {
   "cell_type": "code",
   "execution_count": 14,
   "metadata": {},
   "outputs": [
    {
     "name": "stderr",
     "output_type": "stream",
     "text": [
      "C:\\Users\\Sean\\AppData\\Local\\Temp\\ipykernel_240\\1901648795.py:4: FutureWarning: \n",
      "\n",
      "Passing `palette` without assigning `hue` is deprecated and will be removed in v0.14.0. Assign the `x` variable to `hue` and set `legend=False` for the same effect.\n",
      "\n",
      "  sns.boxplot(x=data[x_col], y=data[y_col], palette=\"Blues\", legend=False)\n"
     ]
    },
    {
     "data": {
      "image/png": "[encoded data removed]",
      "text/plain": [
       "<Figure size 800x500 with 1 Axes>"
      ]
     },
     "metadata": {},
     "output_type": "display_data"
    }
   ],
   "source": [
    "plot_box(df_train, 'Size', 'Price')"
   ]
  },
  {
   "cell_type": "code",
   "execution_count": 15,
   "metadata": {},
   "outputs": [
    {
     "name": "stderr",
     "output_type": "stream",
     "text": [
      "C:\\Users\\Sean\\AppData\\Local\\Temp\\ipykernel_240\\1901648795.py:4: FutureWarning: \n",
      "\n",
      "Passing `palette` without assigning `hue` is deprecated and will be removed in v0.14.0. Assign the `x` variable to `hue` and set `legend=False` for the same effect.\n",
      "\n",
      "  sns.boxplot(x=data[x_col], y=data[y_col], palette=\"Blues\", legend=False)\n"
     ]
    },
    {
     "data": {
      "image/png": "[encoded data removed]",
      "text/plain": [
       "<Figure size 800x500 with 1 Axes>"
      ]
     },
     "metadata": {},
     "output_type": "display_data"
    }
   ],
   "source": [
    "plot_box(df_train, 'Style', 'Price')"
   ]
  },
  {
   "cell_type": "code",
   "execution_count": 16,
   "metadata": {},
   "outputs": [
    {
     "name": "stderr",
     "output_type": "stream",
     "text": [
      "C:\\Users\\Sean\\AppData\\Local\\Temp\\ipykernel_240\\1901648795.py:4: FutureWarning: \n",
      "\n",
      "Passing `palette` without assigning `hue` is deprecated and will be removed in v0.14.0. Assign the `x` variable to `hue` and set `legend=False` for the same effect.\n",
      "\n",
      "  sns.boxplot(x=data[x_col], y=data[y_col], palette=\"Blues\", legend=False)\n"
     ]
    },
    {
     "data": {
      "image/png": "[encoded data removed]",
      "text/plain": [
       "<Figure size 800x500 with 1 Axes>"
      ]
     },
     "metadata": {},
     "output_type": "display_data"
    }
   ],
   "source": [
    "plot_box(df_train, 'Color', 'Price')"
   ]
  },
  {
   "cell_type": "code",
   "execution_count": 22,
   "metadata": {},
   "outputs": [
    {
     "name": "stderr",
     "output_type": "stream",
     "text": [
      "C:\\Users\\Sean\\AppData\\Local\\Temp\\ipykernel_240\\1901648795.py:4: FutureWarning: \n",
      "\n",
      "Passing `palette` without assigning `hue` is deprecated and will be removed in v0.14.0. Assign the `x` variable to `hue` and set `legend=False` for the same effect.\n",
      "\n",
      "  sns.boxplot(x=data[x_col], y=data[y_col], palette=\"Blues\", legend=False)\n"
     ]
    },
    {
     "data": {
      "image/png": "[encoded data removed]",
      "text/plain": [
       "<Figure size 800x500 with 1 Axes>"
      ]
     },
     "metadata": {},
     "output_type": "display_data"
    }
   ],
   "source": [
    "plot_box(df_train, 'Waterproof', 'Price')"
   ]
  },
  {
   "cell_type": "code",
   "execution_count": 21,
   "metadata": {},
   "outputs": [
    {
     "name": "stderr",
     "output_type": "stream",
     "text": [
      "C:\\Users\\Sean\\AppData\\Local\\Temp\\ipykernel_240\\1901648795.py:4: FutureWarning: \n",
      "\n",
      "Passing `palette` without assigning `hue` is deprecated and will be removed in v0.14.0. Assign the `x` variable to `hue` and set `legend=False` for the same effect.\n",
      "\n",
      "  sns.boxplot(x=data[x_col], y=data[y_col], palette=\"Blues\", legend=False)\n"
     ]
    },
    {
     "data": {
      "image/png": "[encoded data removed]",
      "text/plain": [
       "<Figure size 800x500 with 1 Axes>"
      ]
     },
     "metadata": {},
     "output_type": "display_data"
    }
   ],
   "source": [
    "plot_box(df_train, 'Laptop Compartment', 'Price')"
   ]
  },
  {
   "cell_type": "code",
   "execution_count": 24,
   "metadata": {},
   "outputs": [
    {
     "name": "stderr",
     "output_type": "stream",
     "text": [
      "C:\\Users\\Sean\\AppData\\Local\\Temp\\ipykernel_240\\1901648795.py:4: FutureWarning: \n",
      "\n",
      "Passing `palette` without assigning `hue` is deprecated and will be removed in v0.14.0. Assign the `x` variable to `hue` and set `legend=False` for the same effect.\n",
      "\n",
      "  sns.boxplot(x=data[x_col], y=data[y_col], palette=\"Blues\", legend=False)\n"
     ]
    },
    {
     "data": {
      "image/png": "[encoded data removed]",
      "text/plain": [
       "<Figure size 800x500 with 1 Axes>"
      ]
     },
     "metadata": {},
     "output_type": "display_data"
    }
   ],
   "source": [
    "plot_box(df_train, 'Compartments', 'Price')"
   ]
  },
  {
   "cell_type": "code",
   "execution_count": 25,
   "metadata": {},
   "outputs": [
    {
     "name": "stderr",
     "output_type": "stream",
     "text": [
      "C:\\Users\\Sean\\AppData\\Local\\Temp\\ipykernel_240\\1901648795.py:4: FutureWarning: \n",
      "\n",
      "Passing `palette` without assigning `hue` is deprecated and will be removed in v0.14.0. Assign the `x` variable to `hue` and set `legend=False` for the same effect.\n",
      "\n",
      "  sns.boxplot(x=data[x_col], y=data[y_col], palette=\"Blues\", legend=False)\n"
     ]
    },
    {
     "data": {
      "image/png": "[encoded data removed]",
      "text/plain": [
       "<Figure size 800x500 with 1 Axes>"
      ]
     },
     "metadata": {},
     "output_type": "display_data"
    }
   ],
   "source": [
    "plot_box(df_train, 'Color', 'Price')"
   ]
  },
  {
   "cell_type": "code",
   "execution_count": 26,
   "metadata": {},
   "outputs": [
    {
     "name": "stderr",
     "output_type": "stream",
     "text": [
      "C:\\Users\\Sean\\AppData\\Local\\Temp\\ipykernel_240\\1901648795.py:4: FutureWarning: \n",
      "\n",
      "Passing `palette` without assigning `hue` is deprecated and will be removed in v0.14.0. Assign the `x` variable to `hue` and set `legend=False` for the same effect.\n",
      "\n",
      "  sns.boxplot(x=data[x_col], y=data[y_col], palette=\"Blues\", legend=False)\n"
     ]
    },
    {
     "data": {
      "image/png": "[encoded data removed]",
      "text/plain": [
       "<Figure size 800x500 with 1 Axes>"
      ]
     },
     "metadata": {},
     "output_type": "display_data"
    }
   ],
   "source": [
    "plot_box(df_train, 'Style', 'Price')"
   ]
  },
  {
   "cell_type": "markdown",
   "metadata": {},
   "source": [
    "### Outliers check"
   ]
  },
  {
   "cell_type": "code",
   "execution_count": null,
   "metadata": {},
   "outputs": [],
   "source": [
    "df = df_train.copy()\n",
    "\n",
    "def detect_outliers_by_category(df, category_cols, price_col='Price'):\n",
    "    category_outliers = []\n",
    "\n",
    "    for category_col in category_cols:\n",
    "        for category in df[category_col].unique():\n",
    "            subset = df[df[category_col] == category].copy()\n",
    "\n",
    "            if subset.shape[0] < 5:  # Skip categories with too few samples\n",
    "                continue\n",
    "\n",
    "            # Compute IQR for this category\n",
    "            Q1 = subset[price_col].quantile(0.25)\n",
    "            Q3 = subset[price_col].quantile(0.75)\n",
    "            IQR = Q3 - Q1\n",
    "\n",
    "            # Define outlier boundaries for this category\n",
    "            lower_bound = 0 if (Q1 - 1.5 * IQR) < 0 else (Q1 - 1.5 * IQR)\n",
    "            upper_bound = Q3 + 1.5 * IQR\n",
    "\n",
    "            # Find outliers within this category\n",
    "            category_anomalies = subset[(subset[price_col] < lower_bound) | (subset[price_col] > upper_bound)].copy()\n",
    "            category_anomalies['Outlier_Category'] = category_col\n",
    "            category_anomalies['Outlier_Value'] = category\n",
    "\n",
    "            category_outliers.append(category_anomalies)\n",
    "\n",
    "    # Combine all category outliers\n",
    "    if category_outliers:\n",
    "        return pd.concat(category_outliers)\n",
    "    else:\n",
    "        return pd.DataFrame()  # Return empty if no outliers fou\n"
   ]
  },
  {
   "cell_type": "code",
   "execution_count": 82,
   "metadata": {},
   "outputs": [
    {
     "data": {
      "text/html": [
       "<div>\n",
       "<style scoped>\n",
       "    .dataframe tbody tr th:only-of-type {\n",
       "        vertical-align: middle;\n",
       "    }\n",
       "\n",
       "    .dataframe tbody tr th {\n",
       "        vertical-align: top;\n",
       "    }\n",
       "\n",
       "    .dataframe thead th {\n",
       "        text-align: right;\n",
       "    }\n",
       "</style>\n",
       "<table border=\"1\" class=\"dataframe\">\n",
       "  <thead>\n",
       "    <tr style=\"text-align: right;\">\n",
       "      <th></th>\n",
       "      <th>id</th>\n",
       "      <th>Brand</th>\n",
       "      <th>Material</th>\n",
       "      <th>Size</th>\n",
       "      <th>Compartments</th>\n",
       "      <th>Laptop Compartment</th>\n",
       "      <th>Waterproof</th>\n",
       "      <th>Style</th>\n",
       "      <th>Color</th>\n",
       "      <th>Weight Capacity (kg)</th>\n",
       "      <th>Price</th>\n",
       "      <th>Outlier_Category</th>\n",
       "      <th>Outlier_Value</th>\n",
       "    </tr>\n",
       "  </thead>\n",
       "  <tbody>\n",
       "  </tbody>\n",
       "</table>\n",
       "</div>"
      ],
      "text/plain": [
       "Empty DataFrame\n",
       "Columns: [id, Brand, Material, Size, Compartments, Laptop Compartment, Waterproof, Style, Color, Weight Capacity (kg), Price, Outlier_Category, Outlier_Value]\n",
       "Index: []"
      ]
     },
     "execution_count": 82,
     "metadata": {},
     "output_type": "execute_result"
    }
   ],
   "source": [
    "cate_cols = df_train.select_dtypes(include=['object', 'category']).columns\n",
    "detect_outliers_by_category(df, category_cols=cate_cols)"
   ]
  },
  {
   "cell_type": "markdown",
   "metadata": {},
   "source": [
    "### I want to test whether there is statistical significance in price based on brands, color, style ..etc"
   ]
  },
  {
   "cell_type": "code",
   "execution_count": null,
   "metadata": {},
   "outputs": [],
   "source": [
    "def test_price_significance(df, category_col, price_col='Price'):\n",
    "    \"\"\"\n",
    "    Test statistical significance of price differences across a categorical variable.\n",
    "    \n",
    "    Parameters:\n",
    "    - df: Pandas DataFrame containing the data.\n",
    "    - category_col: Categorical column to test (e.g., 'Brand', 'Color', etc.).\n",
    "    - price_col: Column representing price (default='Price').\n",
    "\n",
    "    Returns:\n",
    "    - Prints results of normality test, homogeneity test, ANOVA/Kruskal-Wallis, and post-hoc analysis.\n",
    "    \"\"\"\n",
    "    \n",
    "    print(f\"\\n🔍  Testing {price_col} differences across {category_col} \")\n",
    "    \n",
    "    # Remove missing values\n",
    "    df = df[[category_col, price_col]].dropna()\n",
    "    \n",
    "    # Ensure category_col is treated as a categorical variable\n",
    "    df[category_col] = df[category_col].astype(str)\n",
    "\n",
    "    # Group prices by category\n",
    "    grouped_data = [df[df[category_col] == cat][price_col] for cat in df[category_col].unique()]\n",
    "    \n",
    "    # Step 1: Normality Check (Anderson-Darling Test)\n",
    "    normal_test_results = [anderson(group) for group in grouped_data if len(group) > 3]\n",
    "    is_normal = all(res.statistic < res.critical_values[2] for res in normal_test_results)  # 5% significance level\n",
    "\n",
    "    # Step 2: Homogeneity of Variance Check (Levene’s Test)\n",
    "    stat, p_levene = levene(*grouped_data)\n",
    "    is_homogeneous = p_levene > 0.05\n",
    "    \n",
    "    print(f\"📌 Normality Test (Anderson-Darling): {'✅ Data is normal' if is_normal else '❌ Data is NOT normal'}\")\n",
    "    print(f\"📌 Homogeneity of Variance (Levene’s Test): {'✅ Variances are equal' if is_homogeneous else '❌ Variances are NOT equal'}\")\n",
    "\n",
    "    # Step 3: Choose Statistical Test\n",
    "    if is_normal and is_homogeneous:\n",
    "        print(\"\\n🚀 Performing One-Way ANOVA...\")\n",
    "        stat, p_value = f_oneway(*grouped_data)\n",
    "    else:\n",
    "        print(\"\\n🚀 Performing Kruskal-Wallis Test (Non-Parametric)...\")\n",
    "        stat, p_value = kruskal(*grouped_data)\n",
    "    \n",
    "    print(f\"🔹 Test Statistic: {stat:.4f}, p-value: {p_value:.4f}\")\n",
    "    if p_value < 0.05:\n",
    "        print(\"✅ Significant differences detected!\")\n",
    "    else:\n",
    "        print(\"❌ No significant differences found.\")\n",
    "\n",
    "    # Step 4: Post Hoc Analysis\n",
    "    if p_value < 0.05:\n",
    "        print(\"\\n📊 Performing Post-Hoc Analysis (Pairwise Comparisons)...\")\n",
    "        if is_normal:\n",
    "            tukey = pairwise_tukeyhsd(df[price_col], df[category_col])\n",
    "            print(tukey)\n",
    "        else:\n",
    "            dunn_test = sp.posthoc_dunn(df, val_col=price_col, group_col=category_col, p_adjust='bonferroni')\n",
    "            print(\"\\nDunn’s Test Results (p-values):\\n\", dunn_test)\n",
    "\n",
    "    print(\"\\n✅ Analysis Complete!\\n\")"
   ]
  },
  {
   "cell_type": "code",
   "execution_count": 42,
   "metadata": {},
   "outputs": [
    {
     "name": "stdout",
     "output_type": "stream",
     "text": [
      "\n",
      "🔍 **Testing Price differences across Brand**\n",
      "📌 Normality Test (Anderson-Darling): ❌ Data is NOT normal\n",
      "📌 Homogeneity of Variance (Levene’s Test): ❌ Variances are NOT equal\n",
      "\n",
      "🚀 Performing Kruskal-Wallis Test (Non-Parametric)...\n",
      "🔹 Test Statistic: 42.5629, p-value: 0.0000\n",
      "✅ Significant differences detected!\n",
      "\n",
      "📊 Performing Post-Hoc Analysis (Pairwise Comparisons)...\n",
      "\n",
      "Dunn’s Test Results (p-values):\n",
      "                     Adidas  Jansport      Nike      Puma  Under Armour\n",
      "Adidas        1.000000e+00  0.000004  0.028472  0.003963  1.924885e-08\n",
      "Jansport      4.212115e-06  1.000000  0.385822  1.000000  1.000000e+00\n",
      "Nike          2.847230e-02  0.385822  1.000000  1.000000  3.169114e-02\n",
      "Puma          3.962774e-03  1.000000  1.000000  1.000000  1.739006e-01\n",
      "Under Armour  1.924885e-08  1.000000  0.031691  0.173901  1.000000e+00\n",
      "\n",
      "✅ Analysis Complete!\n",
      "\n"
     ]
    }
   ],
   "source": [
    "test_price_significance(df_train, category_col='Brand')"
   ]
  },
  {
   "cell_type": "code",
   "execution_count": 43,
   "metadata": {},
   "outputs": [
    {
     "name": "stdout",
     "output_type": "stream",
     "text": [
      "\n",
      "🔍 **Testing Price differences across Material**\n",
      "📌 Normality Test (Anderson-Darling): ❌ Data is NOT normal\n",
      "📌 Homogeneity of Variance (Levene’s Test): ❌ Variances are NOT equal\n",
      "\n",
      "🚀 Performing Kruskal-Wallis Test (Non-Parametric)...\n",
      "🔹 Test Statistic: 94.3978, p-value: 0.0000\n",
      "✅ Significant differences detected!\n",
      "\n",
      "📊 Performing Post-Hoc Analysis (Pairwise Comparisons)...\n",
      "\n",
      "Dunn’s Test Results (p-values):\n",
      "                  Canvas       Leather     Nylon     Polyester\n",
      "Canvas     1.000000e+00  5.058636e-15  0.000002  1.000000e+00\n",
      "Leather    5.058636e-15  1.000000e+00  0.023102  7.706586e-15\n",
      "Nylon      1.680382e-06  2.310238e-02  1.000000  4.071802e-06\n",
      "Polyester  1.000000e+00  7.706586e-15  0.000004  1.000000e+00\n",
      "\n",
      "✅ Analysis Complete!\n",
      "\n"
     ]
    }
   ],
   "source": [
    "test_price_significance(df_train, category_col='Material')"
   ]
  },
  {
   "cell_type": "code",
   "execution_count": 44,
   "metadata": {},
   "outputs": [
    {
     "name": "stdout",
     "output_type": "stream",
     "text": [
      "\n",
      "🔍 **Testing Price differences across Size**\n",
      "📌 Normality Test (Anderson-Darling): ❌ Data is NOT normal\n",
      "📌 Homogeneity of Variance (Levene’s Test): ❌ Variances are NOT equal\n",
      "\n",
      "🚀 Performing Kruskal-Wallis Test (Non-Parametric)...\n",
      "🔹 Test Statistic: 2.9022, p-value: 0.2343\n",
      "❌ No significant differences found.\n",
      "\n",
      "✅ Analysis Complete!\n",
      "\n"
     ]
    }
   ],
   "source": [
    "test_price_significance(df_train, category_col='Size')"
   ]
  },
  {
   "cell_type": "code",
   "execution_count": 45,
   "metadata": {},
   "outputs": [
    {
     "name": "stdout",
     "output_type": "stream",
     "text": [
      "\n",
      "🔍 **Testing Price differences across Compartments**\n",
      "📌 Normality Test (Anderson-Darling): ❌ Data is NOT normal\n",
      "📌 Homogeneity of Variance (Levene’s Test): ❌ Variances are NOT equal\n",
      "\n",
      "🚀 Performing Kruskal-Wallis Test (Non-Parametric)...\n",
      "🔹 Test Statistic: 33.7052, p-value: 0.0001\n",
      "✅ Significant differences detected!\n",
      "\n",
      "📊 Performing Post-Hoc Analysis (Pairwise Comparisons)...\n",
      "\n",
      "Dunn’s Test Results (p-values):\n",
      "            1.0      10.0       2.0       3.0       4.0       5.0       6.0  \\\n",
      "1.0   1.000000  1.000000  1.000000  1.000000  1.000000  1.000000  1.000000   \n",
      "10.0  1.000000  1.000000  1.000000  1.000000  1.000000  1.000000  1.000000   \n",
      "2.0   1.000000  1.000000  1.000000  1.000000  0.512530  1.000000  1.000000   \n",
      "3.0   1.000000  1.000000  1.000000  1.000000  1.000000  1.000000  1.000000   \n",
      "4.0   1.000000  1.000000  0.512530  1.000000  1.000000  1.000000  1.000000   \n",
      "5.0   1.000000  1.000000  1.000000  1.000000  1.000000  1.000000  1.000000   \n",
      "6.0   1.000000  1.000000  1.000000  1.000000  1.000000  1.000000  1.000000   \n",
      "7.0   1.000000  1.000000  1.000000  1.000000  1.000000  1.000000  1.000000   \n",
      "8.0   1.000000  1.000000  1.000000  1.000000  1.000000  1.000000  1.000000   \n",
      "9.0   0.255674  0.002833  0.690834  0.160044  0.000032  0.037059  0.067665   \n",
      "\n",
      "           7.0       8.0       9.0  \n",
      "1.0   1.000000  1.000000  0.255674  \n",
      "10.0  1.000000  1.000000  0.002833  \n",
      "2.0   1.000000  1.000000  0.690834  \n",
      "3.0   1.000000  1.000000  0.160044  \n",
      "4.0   1.000000  1.000000  0.000032  \n",
      "5.0   1.000000  1.000000  0.037059  \n",
      "6.0   1.000000  1.000000  0.067665  \n",
      "7.0   1.000000  1.000000  0.051491  \n",
      "8.0   1.000000  1.000000  0.000195  \n",
      "9.0   0.051491  0.000195  1.000000  \n",
      "\n",
      "✅ Analysis Complete!\n",
      "\n"
     ]
    }
   ],
   "source": [
    "test_price_significance(df_train, category_col='Compartments')"
   ]
  },
  {
   "cell_type": "code",
   "execution_count": 46,
   "metadata": {},
   "outputs": [
    {
     "name": "stdout",
     "output_type": "stream",
     "text": [
      "\n",
      "🔍 **Testing Price differences across Laptop Compartment**\n",
      "📌 Normality Test (Anderson-Darling): ❌ Data is NOT normal\n",
      "📌 Homogeneity of Variance (Levene’s Test): ❌ Variances are NOT equal\n",
      "\n",
      "🚀 Performing Kruskal-Wallis Test (Non-Parametric)...\n",
      "🔹 Test Statistic: 0.0093, p-value: 0.9233\n",
      "❌ No significant differences found.\n",
      "\n",
      "✅ Analysis Complete!\n",
      "\n"
     ]
    }
   ],
   "source": [
    "test_price_significance(df_train, category_col='Laptop Compartment')"
   ]
  },
  {
   "cell_type": "code",
   "execution_count": 47,
   "metadata": {},
   "outputs": [
    {
     "name": "stdout",
     "output_type": "stream",
     "text": [
      "\n",
      "🔍 **Testing Price differences across Waterproof**\n",
      "📌 Normality Test (Anderson-Darling): ❌ Data is NOT normal\n",
      "📌 Homogeneity of Variance (Levene’s Test): ❌ Variances are NOT equal\n",
      "\n",
      "🚀 Performing Kruskal-Wallis Test (Non-Parametric)...\n",
      "🔹 Test Statistic: 1.5892, p-value: 0.2074\n",
      "❌ No significant differences found.\n",
      "\n",
      "✅ Analysis Complete!\n",
      "\n"
     ]
    }
   ],
   "source": [
    "test_price_significance(df_train, category_col='Waterproof')"
   ]
  },
  {
   "cell_type": "code",
   "execution_count": 48,
   "metadata": {},
   "outputs": [
    {
     "name": "stdout",
     "output_type": "stream",
     "text": [
      "\n",
      "🔍 **Testing Price differences across Style**\n",
      "📌 Normality Test (Anderson-Darling): ❌ Data is NOT normal\n",
      "📌 Homogeneity of Variance (Levene’s Test): ❌ Variances are NOT equal\n",
      "\n",
      "🚀 Performing Kruskal-Wallis Test (Non-Parametric)...\n",
      "🔹 Test Statistic: 0.0689, p-value: 0.9661\n",
      "❌ No significant differences found.\n",
      "\n",
      "✅ Analysis Complete!\n",
      "\n"
     ]
    }
   ],
   "source": [
    "test_price_significance(df_train, category_col='Style')"
   ]
  },
  {
   "cell_type": "code",
   "execution_count": 49,
   "metadata": {},
   "outputs": [
    {
     "name": "stdout",
     "output_type": "stream",
     "text": [
      "\n",
      "🔍 **Testing Price differences across Color**\n",
      "📌 Normality Test (Anderson-Darling): ❌ Data is NOT normal\n",
      "📌 Homogeneity of Variance (Levene’s Test): ❌ Variances are NOT equal\n",
      "\n",
      "🚀 Performing Kruskal-Wallis Test (Non-Parametric)...\n",
      "🔹 Test Statistic: 81.7788, p-value: 0.0000\n",
      "✅ Significant differences detected!\n",
      "\n",
      "📊 Performing Post-Hoc Analysis (Pairwise Comparisons)...\n",
      "\n",
      "Dunn’s Test Results (p-values):\n",
      "               Black          Blue          Gray         Green      Pink  \\\n",
      "Black  1.000000e+00  4.362230e-08  1.000000e+00  3.751614e-12  0.000106   \n",
      "Blue   4.362230e-08  1.000000e+00  5.880161e-05  1.000000e+00  1.000000   \n",
      "Gray   1.000000e+00  5.880161e-05  1.000000e+00  2.361878e-08  0.027365   \n",
      "Green  3.751614e-12  1.000000e+00  2.361878e-08  1.000000e+00  0.037506   \n",
      "Pink   1.063469e-04  1.000000e+00  2.736540e-02  3.750618e-02  1.000000   \n",
      "Red    8.037543e-01  8.880183e-04  1.000000e+00  8.870725e-07  0.171119   \n",
      "\n",
      "                Red  \n",
      "Black  8.037543e-01  \n",
      "Blue   8.880183e-04  \n",
      "Gray   1.000000e+00  \n",
      "Green  8.870725e-07  \n",
      "Pink   1.711192e-01  \n",
      "Red    1.000000e+00  \n",
      "\n",
      "✅ Analysis Complete!\n",
      "\n"
     ]
    }
   ],
   "source": [
    "test_price_significance(df_train, category_col='Color')"
   ]
  },
  {
   "cell_type": "markdown",
   "metadata": {},
   "source": [
    "#  Analysis Summary \n",
    "\n",
    "##  1. Price Differences Across Brands \n",
    "-  Normality Test (Anderson-Darling):  ❌ *The data is not normally distributed.*\n",
    "-  Homogeneity of Variance (Levene’s Test):  ❌ *Variances are not equal.*\n",
    "- Given these violations of parametric test assumptions, a  non-parametric Kruskal-Wallis test  was used.\n",
    "-  Kruskal-Wallis Test Result:  ✅ *Significant differences detected (p-value = 0.0000)*, meaning that at least one brand has a statistically different price distribution.\n",
    "-  Post-Hoc Analysis (Dunn’s Test):  \n",
    "  - Several pairwise comparisons have very small p-values (e.g., *Adidas vs. Jansport, Adidas vs. Under Armour*), indicating significant price differences between those brands.\n",
    "\n",
    "##  2. Price Differences Across Material \n",
    "-  Normality Test (Anderson-Darling):  ❌ *The data is not normally distributed.*\n",
    "-  Homogeneity of Variance (Levene’s Test):  ❌ *Variances are not equal.*\n",
    "-  Kruskal-Wallis Test Result:  ✅ *Significant differences detected (p-value = 0.0000).*\n",
    "-  Post-Hoc Analysis (Dunn’s Test): \n",
    "  - Significant price differences exist among *Canvas, Leather, Nylon, and Polyester* materials.\n",
    "\n",
    "##  3. Price Differences Across Compartments \n",
    "-  Normality Test (Anderson-Darling):  ❌ *The data is not normally distributed.*\n",
    "-  Homogeneity of Variance (Levene’s Test):  ❌ *Variances are not equal.*\n",
    "-  Kruskal-Wallis Test Result:  ✅ *Significant differences detected (p-value = 0.0001).*\n",
    "-  Post-Hoc Analysis (Dunn’s Test): \n",
    "  - Several compartment configurations show  statistically significant  price differences.\n",
    "\n",
    "##  4. Price Differences Across Colors \n",
    "-  Normality Test (Anderson-Darling):  ❌ *The data is not normally distributed.*\n",
    "-  Homogeneity of Variance (Levene’s Test):  ❌ *Variances are not equal.*\n",
    "-  Kruskal-Wallis Test Result:  ✅ *Significant differences detected (p-value = 0.0000).*\n",
    "-  Post-Hoc Analysis (Dunn’s Test): \n",
    "  - Specific colors (*Black, Blue, Gray, Green, Pink, Red*) have significant price differences.\n",
    "\n",
    "##  5. Features That Do Not Significantly Affect Price \n",
    "The following categorical variables  do not  show significant price differences:\n",
    "-  Size  ❌ *(p-value = 0.2343)*\n",
    "-  Laptop Compartment  ❌ *(p-value = 0.9233)*\n",
    "-  Waterproof  ❌ *(p-value = 0.2074)*\n",
    "-  Style  ❌ *(p-value = 0.9661)*\n",
    "\n",
    "##  Overall Conclusion \n",
    "-  Brand, material, compartments, and color significantly impact price. \n",
    "-  Size, laptop compartment, waterproof, and style do not have a significant impact on price. \n",
    "-  Data does not meet parametric test assumptions,  requiring non-parametric statistical methods.\n",
    "-  Certain categories show highly significant differences,  suggesting that some features strongly influence pricing.\n",
    "-  No outliers in each categorical features\n"
   ]
  },
  {
   "cell_type": "markdown",
   "metadata": {},
   "source": [
    "## Modeling Strategies\n",
    "\n",
    "1. build up the base line model\n",
    "2. remove some columns(size, laptop compartment, waterproof, style) one by one to see if the performance is enhanced."
   ]
  }
 ],
 "metadata": {
  "kernelspec": {
   "display_name": "base",
   "language": "python",
   "name": "python3"
  },
  "language_info": {
   "codemirror_mode": {
    "name": "ipython",
    "version": 3
   },
   "file_extension": ".py",
   "mimetype": "text/x-python",
   "name": "python",
   "nbconvert_exporter": "python",
   "pygments_lexer": "ipython3",
   "version": "3.12.2"
  }
 },
 "nbformat": 4,
 "nbformat_minor": 2
}
